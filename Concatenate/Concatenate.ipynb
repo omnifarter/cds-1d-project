{
 "cells": [
  {
   "cell_type": "code",
   "execution_count": null,
   "id": "c1ae72cb",
   "metadata": {},
   "outputs": [],
   "source": [
    "from sklearn.model_selection import train_test_split\n",
    "import matplotlib.pyplot as plt\n",
    "import pandas as pd\n",
    "import numpy as np\n",
    "import os\n",
    "\n",
    "import tensorflow as tf\n",
    "import tensorflow_hub as hub\n",
    "import tensorflow_text as text\n",
    "from tensorflow import keras\n"
   ]
  },
  {
   "cell_type": "code",
   "execution_count": null,
   "id": "b732d879",
   "metadata": {},
   "outputs": [],
   "source": [
    "dataset_audio_path = os.path.join(os.getcwd(),'..\\cmu-mosi\\Custom\\Audio')\n",
    "dataset_video_path = os.path.join(os.getcwd(),'..\\cmu-mosi\\Custom\\Video')\n",
    "dataset_text_path = os.path.join(os.getcwd(),'..\\cmu-mosi\\Custom\\Text')\n",
    "\n",
    "data_array = []\n",
    "for audio_path in glob.glob(dataset_audio_path+'\\*\\*'):\n",
    "    \n",
    "    label = os.path.basename(os.path.dirname(audio_path))\n",
    "    \n",
    "    file_name = os.path.basename(audio_path)\n",
    "    \n",
    "    text_path = os.path.join(dataset_text_path,\"{}\\{}\".format)\n",
    "    data_array.append([\n",
    "        audio_path,\n",
    "        \n",
    "        label\n",
    "    ])\n",
    "    \n",
    "df = pd.DataFrame(data_array, columns=['path','label'])\n"
   ]
  },
  {
   "cell_type": "code",
   "execution_count": null,
   "id": "5a1706a1",
   "metadata": {},
   "outputs": [],
   "source": []
  }
 ],
 "metadata": {
  "kernelspec": {
   "display_name": "Python 3 (ipykernel)",
   "language": "python",
   "name": "python3"
  },
  "language_info": {
   "codemirror_mode": {
    "name": "ipython",
    "version": 3
   },
   "file_extension": ".py",
   "mimetype": "text/x-python",
   "name": "python",
   "nbconvert_exporter": "python",
   "pygments_lexer": "ipython3",
   "version": "3.9.7"
  }
 },
 "nbformat": 4,
 "nbformat_minor": 5
}
